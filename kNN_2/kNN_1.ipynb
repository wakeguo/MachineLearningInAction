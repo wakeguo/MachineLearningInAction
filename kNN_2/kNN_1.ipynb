{
 "cells": [
  {
   "cell_type": "markdown",
   "metadata": {},
   "source": [
    "# 使用k近邻算法改进网站的配对效果"
   ]
  },
  {
   "cell_type": "markdown",
   "metadata": {},
   "source": [
    "## 说明:将数据集文件'datingTestSet2.txt'放在当前文件夹"
   ]
  },
  {
   "cell_type": "code",
   "execution_count": 5,
   "metadata": {
    "collapsed": true
   },
   "outputs": [],
   "source": [
    "# 导入程序所需的模块\n",
    "import numpy as np\n",
    "import operator"
   ]
  },
  {
   "cell_type": "markdown",
   "metadata": {},
   "source": [
    "# 定义数据集导入函数"
   ]
  },
  {
   "cell_type": "code",
   "execution_count": 6,
   "metadata": {
    "collapsed": true
   },
   "outputs": [],
   "source": [
    "def file2matrix(filename):\n",
    "    love_dictionary = {'largeDoses': 3, 'smallDoses': 2, 'didntLike': 1}  # 三个类别\n",
    "    fr = open(filename)  # 打开文件\n",
    "    arrayOLines = fr.readlines()  # 读取全部的行，逐行打开\n",
    "    numberOfLines = len(arrayOLines)  # 文件的行数\n",
    "    returnMat = np.zeros((numberOfLines, 3))  # 初始化特征矩阵\n",
    "    classLabelVector = []  # 初始化输出标签向量\n",
    "    index = 0\n",
    "    for line in arrayOLines:\n",
    "        line = line.strip()  # 40920\t8.326976\t0.953952\t3\n",
    "        # 如果没有这个步骤下部的结果是['40920', '8.326976', '0.953952', '3\\n']\n",
    "        listFormLine = line.split('\\t')  # ['40920', '8.326976', '0.953952', '3']\n",
    "        returnMat[index, :] = listFormLine[0:3]  # 得到数据集\n",
    "        if (listFormLine[-1].isdigit()):  # 判断listFormLine最后一个元素是数字，是True\n",
    "            classLabelVector.append(int(listFormLine[-1]))\n",
    "        else:  # listFormLine最后一个元素是字符串\n",
    "            classLabelVector.append(love_dictionary.get(listFormLine[-1]))\n",
    "        index += 1\n",
    "    return returnMat, classLabelVector  # 返回数据数组，类别标签是1，2，3"
   ]
  },
  {
   "cell_type": "markdown",
   "metadata": {},
   "source": [
    "# 定义特征归一化函数"
   ]
  },
  {
   "cell_type": "code",
   "execution_count": 7,
   "metadata": {
    "collapsed": true
   },
   "outputs": [],
   "source": [
    "def autoNorm(dataSet):\n",
    "    minVals = dataSet.min(0)\n",
    "    maxVals = dataSet.max(0)\n",
    "    ranges = maxVals - minVals\n",
    "    normDataSet = np.zeros(np.shape(dataSet))  # shape是元组的\n",
    "    # m = dataSet.shape[0]\n",
    "    # normDataSet = dataSet - np.tile(minVals, (m, 1))\n",
    "    # normDataSet = normDataSet/np.tile(ranges, (m, 1))\n",
    "    normDataSet = dataSet - minVals  # 广播运算更简单一点\n",
    "    normDataSet = normDataSet/ranges\n",
    "    return normDataSet, ranges, minVals  # 特征归一化的数据，数据范围，数据最小值"
   ]
  },
  {
   "cell_type": "markdown",
   "metadata": {},
   "source": [
    "# 定义k近邻算法"
   ]
  },
  {
   "cell_type": "code",
   "execution_count": 8,
   "metadata": {
    "collapsed": true
   },
   "outputs": [],
   "source": [
    "def classify0(inX, dataSet, labels, k):  # inX是测试集，dataSet是训练集，labels是训练样本标签，k是取的最近邻个数\n",
    "    dataSetSize = dataSet.shape[0]  # 训练样本个数\n",
    "    diffMat = np.tile(inX, (dataSetSize, 1)) - dataSet  # 重复n次\n",
    "    sqDiffMat = diffMat**2\n",
    "    sqDistances = sqDiffMat.sum(axis=1)\n",
    "    distances = sqDistances**0.5  # distance是inX与dataSet的欧式距离\n",
    "    sortedDistIndices = distances.argsort()  # 返回数值从小到大的索引值排序\n",
    "    classCount = {}\n",
    "    for i in range(k):\n",
    "        voteIlabel = labels[sortedDistIndices[i]]\n",
    "        classCount[voteIlabel] = classCount.get(voteIlabel, 0) + 1\n",
    "    sortedClassCount = sorted(classCount.items(), key=operator.itemgetter(1), reverse=True)\n",
    "    return sortedClassCount[0][0]  # 返回k近邻中所属类别最多的一类"
   ]
  },
  {
   "cell_type": "markdown",
   "metadata": {},
   "source": [
    "# 测试算法：作为完整程序验证分类器"
   ]
  },
  {
   "cell_type": "code",
   "execution_count": 9,
   "metadata": {
    "collapsed": true
   },
   "outputs": [],
   "source": [
    "def datingClassTest():\n",
    "    hoRatio = 0.1  # 数据的10%用来测试\n",
    "    datingDataMat, datingLabels = file2matrix('datingTestSet2.txt')  # 导入数据\n",
    "    normMat, ranges, minVals = autoNorm(datingDataMat)  # 特征归一化\n",
    "    m = normMat.shape[0]  # 样本个数\n",
    "    numTestVecs = int(m*hoRatio)  # 测试样本个数\n",
    "    errorCount = 0\n",
    "    for i in range(numTestVecs):\n",
    "        classifierResult = classify0(normMat[i, :], normMat[numTestVecs:m, :], datingLabels[numTestVecs:m], 3)\n",
    "        print('The classifier came back with: {}, the real answer is: {}'.format(classifierResult, datingLabels[i]))\n",
    "        if (classifierResult != datingLabels[i]):\n",
    "            errorCount += 1\n",
    "    print('The total error is: {:.3f}'.format(errorCount/float(numTestVecs)))  # 错误率\n",
    "    print('Error counts is {}'.format(errorCount))  # 错误个数"
   ]
  },
  {
   "cell_type": "code",
   "execution_count": 10,
   "metadata": {},
   "outputs": [
    {
     "name": "stdout",
     "output_type": "stream",
     "text": [
      "The classifier came back with: 3, the real answer is: 3\n",
      "The classifier came back with: 2, the real answer is: 2\n",
      "The classifier came back with: 1, the real answer is: 1\n",
      "The classifier came back with: 1, the real answer is: 1\n",
      "The classifier came back with: 1, the real answer is: 1\n",
      "The classifier came back with: 1, the real answer is: 1\n",
      "The classifier came back with: 3, the real answer is: 3\n",
      "The classifier came back with: 3, the real answer is: 3\n",
      "The classifier came back with: 1, the real answer is: 1\n",
      "The classifier came back with: 3, the real answer is: 3\n",
      "The classifier came back with: 1, the real answer is: 1\n",
      "The classifier came back with: 1, the real answer is: 1\n",
      "The classifier came back with: 2, the real answer is: 2\n",
      "The classifier came back with: 1, the real answer is: 1\n",
      "The classifier came back with: 1, the real answer is: 1\n",
      "The classifier came back with: 1, the real answer is: 1\n",
      "The classifier came back with: 1, the real answer is: 1\n",
      "The classifier came back with: 1, the real answer is: 1\n",
      "The classifier came back with: 2, the real answer is: 2\n",
      "The classifier came back with: 3, the real answer is: 3\n",
      "The classifier came back with: 2, the real answer is: 2\n",
      "The classifier came back with: 1, the real answer is: 1\n",
      "The classifier came back with: 3, the real answer is: 2\n",
      "The classifier came back with: 3, the real answer is: 3\n",
      "The classifier came back with: 2, the real answer is: 2\n",
      "The classifier came back with: 3, the real answer is: 3\n",
      "The classifier came back with: 2, the real answer is: 2\n",
      "The classifier came back with: 3, the real answer is: 3\n",
      "The classifier came back with: 2, the real answer is: 2\n",
      "The classifier came back with: 1, the real answer is: 1\n",
      "The classifier came back with: 3, the real answer is: 3\n",
      "The classifier came back with: 1, the real answer is: 1\n",
      "The classifier came back with: 3, the real answer is: 3\n",
      "The classifier came back with: 1, the real answer is: 1\n",
      "The classifier came back with: 2, the real answer is: 2\n",
      "The classifier came back with: 1, the real answer is: 1\n",
      "The classifier came back with: 1, the real answer is: 1\n",
      "The classifier came back with: 2, the real answer is: 2\n",
      "The classifier came back with: 3, the real answer is: 3\n",
      "The classifier came back with: 3, the real answer is: 3\n",
      "The classifier came back with: 1, the real answer is: 1\n",
      "The classifier came back with: 2, the real answer is: 2\n",
      "The classifier came back with: 3, the real answer is: 3\n",
      "The classifier came back with: 3, the real answer is: 3\n",
      "The classifier came back with: 3, the real answer is: 3\n",
      "The classifier came back with: 1, the real answer is: 1\n",
      "The classifier came back with: 1, the real answer is: 1\n",
      "The classifier came back with: 1, the real answer is: 1\n",
      "The classifier came back with: 1, the real answer is: 1\n",
      "The classifier came back with: 2, the real answer is: 2\n",
      "The classifier came back with: 2, the real answer is: 2\n",
      "The classifier came back with: 1, the real answer is: 1\n",
      "The classifier came back with: 3, the real answer is: 3\n",
      "The classifier came back with: 2, the real answer is: 2\n",
      "The classifier came back with: 2, the real answer is: 2\n",
      "The classifier came back with: 2, the real answer is: 2\n",
      "The classifier came back with: 2, the real answer is: 2\n",
      "The classifier came back with: 3, the real answer is: 3\n",
      "The classifier came back with: 1, the real answer is: 1\n",
      "The classifier came back with: 2, the real answer is: 2\n",
      "The classifier came back with: 1, the real answer is: 1\n",
      "The classifier came back with: 2, the real answer is: 2\n",
      "The classifier came back with: 2, the real answer is: 2\n",
      "The classifier came back with: 2, the real answer is: 2\n",
      "The classifier came back with: 2, the real answer is: 2\n",
      "The classifier came back with: 2, the real answer is: 2\n",
      "The classifier came back with: 3, the real answer is: 3\n",
      "The classifier came back with: 2, the real answer is: 2\n",
      "The classifier came back with: 3, the real answer is: 3\n",
      "The classifier came back with: 1, the real answer is: 1\n",
      "The classifier came back with: 2, the real answer is: 2\n",
      "The classifier came back with: 3, the real answer is: 3\n",
      "The classifier came back with: 2, the real answer is: 2\n",
      "The classifier came back with: 2, the real answer is: 2\n",
      "The classifier came back with: 3, the real answer is: 1\n",
      "The classifier came back with: 3, the real answer is: 3\n",
      "The classifier came back with: 1, the real answer is: 1\n",
      "The classifier came back with: 1, the real answer is: 1\n",
      "The classifier came back with: 3, the real answer is: 3\n",
      "The classifier came back with: 3, the real answer is: 3\n",
      "The classifier came back with: 1, the real answer is: 1\n",
      "The classifier came back with: 2, the real answer is: 2\n",
      "The classifier came back with: 3, the real answer is: 3\n",
      "The classifier came back with: 3, the real answer is: 1\n",
      "The classifier came back with: 3, the real answer is: 3\n",
      "The classifier came back with: 1, the real answer is: 1\n",
      "The classifier came back with: 2, the real answer is: 2\n",
      "The classifier came back with: 2, the real answer is: 2\n",
      "The classifier came back with: 1, the real answer is: 1\n",
      "The classifier came back with: 1, the real answer is: 1\n",
      "The classifier came back with: 3, the real answer is: 3\n",
      "The classifier came back with: 2, the real answer is: 3\n",
      "The classifier came back with: 1, the real answer is: 1\n",
      "The classifier came back with: 2, the real answer is: 2\n",
      "The classifier came back with: 1, the real answer is: 1\n",
      "The classifier came back with: 3, the real answer is: 3\n",
      "The classifier came back with: 3, the real answer is: 3\n",
      "The classifier came back with: 2, the real answer is: 2\n",
      "The classifier came back with: 1, the real answer is: 1\n",
      "The classifier came back with: 3, the real answer is: 1\n",
      "The total error is: 0.050\n",
      "Error counts is 5\n"
     ]
    }
   ],
   "source": [
    "datingClassTest()"
   ]
  },
  {
   "cell_type": "markdown",
   "metadata": {},
   "source": [
    "# 根据用户输入，在线判断类别"
   ]
  },
  {
   "cell_type": "code",
   "execution_count": 11,
   "metadata": {
    "collapsed": true
   },
   "outputs": [],
   "source": [
    "def classifyPerson():\n",
    "    resultList = ['not at all', 'in small doses', 'in large doses']\n",
    "    percentTats = float(input('percentage of time spent playing video games?'))\n",
    "    ffMiles = float(input('frequent flier miles earned per year?'))\n",
    "    iceCream = float(input('liters of ice cream consumed per year'))\n",
    "    datingDataMat, datingLabels = file2matrix('datingTestSet2.txt')\n",
    "    normMat, ranges, minVals = autoNorm(datingDataMat)\n",
    "    inArr = np.array([ffMiles, percentTats, iceCream])\n",
    "    classifierResult = classify0((inArr - minVals)/ranges, normMat, datingLabels, 3)\n",
    "    print('You will probably like this person: {}'.format(resultList[classifierResult - 1]))"
   ]
  },
  {
   "cell_type": "code",
   "execution_count": 12,
   "metadata": {},
   "outputs": [
    {
     "name": "stdout",
     "output_type": "stream",
     "text": [
      "percentage of time spent playing video games?10\n",
      "frequent flier miles earned per year?5000\n",
      "liters of ice cream consumed per year20\n",
      "You will probably like this person: in small doses\n"
     ]
    }
   ],
   "source": [
    "classifyPerson()"
   ]
  },
  {
   "cell_type": "code",
   "execution_count": null,
   "metadata": {
    "collapsed": true
   },
   "outputs": [],
   "source": []
  }
 ],
 "metadata": {
  "kernelspec": {
   "display_name": "Python [conda root]",
   "language": "python",
   "name": "conda-root-py"
  },
  "language_info": {
   "codemirror_mode": {
    "name": "ipython",
    "version": 3
   },
   "file_extension": ".py",
   "mimetype": "text/x-python",
   "name": "python",
   "nbconvert_exporter": "python",
   "pygments_lexer": "ipython3",
   "version": "3.6.2"
  }
 },
 "nbformat": 4,
 "nbformat_minor": 2
}
